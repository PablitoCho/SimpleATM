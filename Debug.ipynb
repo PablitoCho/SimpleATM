{
 "cells": [
  {
   "cell_type": "code",
   "execution_count": 5,
   "id": "0534c665",
   "metadata": {},
   "outputs": [],
   "source": [
    "import hashlib\n",
    "from classes import Bank, Card\n",
    "BANK_DATABASE = 'bank.database'\n",
    "bank = Bank(database_file=BANK_DATABASE)"
   ]
  },
  {
   "cell_type": "markdown",
   "id": "dffbf53c",
   "metadata": {},
   "source": [
    "### Add Card Information"
   ]
  },
  {
   "cell_type": "code",
   "execution_count": 6,
   "id": "42aba289",
   "metadata": {},
   "outputs": [
    {
     "data": {
      "text/plain": [
       "0"
      ]
     },
     "execution_count": 6,
     "metadata": {},
     "output_type": "execute_result"
    }
   ],
   "source": [
    "# PIN number\n",
    "PIN = 8888\n",
    "\n",
    "# Card dictionary\n",
    "card_dict = {\n",
    "    'cardName' : 'newCard3',\n",
    "    'cardNumber' : '1002-2222-4444-5555',\n",
    "    'pinNumber' : hashlib.sha256(str(PIN).encode()).hexdigest(),\n",
    "    'accounts' : [\n",
    "         {\n",
    "            'accountName': 'newAccount1',\n",
    "            'accountNumber': '1003-057-475967',\n",
    "            'balance' : 150000000\n",
    "         },{\n",
    "            'accountName': 'newAccount2',\n",
    "            'accountNumber': '6534-123-243576',\n",
    "            'balance' : 3500000\n",
    "         }\n",
    "    ]\n",
    "}\n",
    "\n",
    "# Card Object\n",
    "card = Card(card_dict)\n",
    "bank.add_card(card_dict) \n",
    "# return 0 : seccuess. \n",
    "# return 1 : duplicate card number,\n",
    "# return 2 : already taken account number.\n",
    "# return 3 : duplicate account number  in a card"
   ]
  },
  {
   "cell_type": "markdown",
   "id": "de568c54",
   "metadata": {},
   "source": [
    "### Delete Card Information"
   ]
  },
  {
   "cell_type": "code",
   "execution_count": 4,
   "id": "755477a4",
   "metadata": {},
   "outputs": [],
   "source": [
    "card_number_to_delete = '1002-2222-4444-5555'\n",
    "bank.delete_card(card_number_to_delete)"
   ]
  },
  {
   "cell_type": "code",
   "execution_count": null,
   "id": "16031dac",
   "metadata": {},
   "outputs": [],
   "source": []
  }
 ],
 "metadata": {
  "kernelspec": {
   "display_name": "RPA",
   "language": "python",
   "name": "rpa"
  },
  "language_info": {
   "codemirror_mode": {
    "name": "ipython",
    "version": 3
   },
   "file_extension": ".py",
   "mimetype": "text/x-python",
   "name": "python",
   "nbconvert_exporter": "python",
   "pygments_lexer": "ipython3",
   "version": "3.9.5"
  }
 },
 "nbformat": 4,
 "nbformat_minor": 5
}
